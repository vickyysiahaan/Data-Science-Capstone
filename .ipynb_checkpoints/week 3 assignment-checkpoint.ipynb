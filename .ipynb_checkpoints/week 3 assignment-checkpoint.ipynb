{
 "cells": [
  {
   "cell_type": "markdown",
   "metadata": {},
   "source": [
    "# First Task"
   ]
  },
  {
   "cell_type": "markdown",
   "metadata": {},
   "source": [
    "#### 1. Install BeautifulSoup4 library"
   ]
  },
  {
   "cell_type": "code",
   "execution_count": 1,
   "metadata": {
    "collapsed": true
   },
   "outputs": [
    {
     "name": "stdout",
     "output_type": "stream",
     "text": [
      "Collecting package metadata (current_repodata.json): ...working... done\n",
      "Solving environment: ...working... done\n",
      "\n",
      "## Package Plan ##\n",
      "\n",
      "  environment location: C:\\Users\\Siahaan\\AppData\\Local\\Continuum\\anaconda3\n",
      "\n",
      "  added / updated specs:\n",
      "    - beautifulsoup4\n",
      "\n",
      "\n",
      "The following packages will be downloaded:\n",
      "\n",
      "    package                    |            build\n",
      "    ---------------------------|-----------------\n",
      "    beautifulsoup4-4.8.1       |           py37_0         153 KB  anaconda\n",
      "    certifi-2019.11.28         |           py37_0         157 KB  anaconda\n",
      "    conda-4.8.0                |           py37_1         3.1 MB  anaconda\n",
      "    ------------------------------------------------------------\n",
      "                                           Total:         3.4 MB\n",
      "\n",
      "The following packages will be UPDATED:\n",
      "\n",
      "  beautifulsoup4     pkgs/main::beautifulsoup4-4.7.1-py37_1 --> anaconda::beautifulsoup4-4.8.1-py37_0\n",
      "  openssl            conda-forge::openssl-1.1.1d-hfa6e2cd_0 --> anaconda::openssl-1.1.1-he774522_0\n",
      "\n",
      "The following packages will be SUPERSEDED by a higher-priority channel:\n",
      "\n",
      "  ca-certificates    conda-forge::ca-certificates-2019.11.~ --> anaconda::ca-certificates-2019.11.27-0\n",
      "  certifi                                       conda-forge --> anaconda\n",
      "  conda                                         conda-forge --> anaconda\n",
      "\n",
      "\n",
      "\n",
      "Downloading and Extracting Packages\n",
      "\n",
      "certifi-2019.11.28   | 157 KB    |            |   0% \n",
      "certifi-2019.11.28   | 157 KB    | #          |  10% \n",
      "certifi-2019.11.28   | 157 KB    | ########1  |  82% \n",
      "certifi-2019.11.28   | 157 KB    | ########## | 100% \n",
      "\n",
      "beautifulsoup4-4.8.1 | 153 KB    |            |   0% \n",
      "beautifulsoup4-4.8.1 | 153 KB    | #          |  10% \n",
      "beautifulsoup4-4.8.1 | 153 KB    | #########3 |  94% \n",
      "beautifulsoup4-4.8.1 | 153 KB    | ########## | 100% \n",
      "\n",
      "conda-4.8.0          | 3.1 MB    |            |   0% \n",
      "conda-4.8.0          | 3.1 MB    |            |   1% \n",
      "conda-4.8.0          | 3.1 MB    | 1          |   2% \n",
      "conda-4.8.0          | 3.1 MB    | 3          |   4% \n",
      "conda-4.8.0          | 3.1 MB    | 6          |   6% \n",
      "conda-4.8.0          | 3.1 MB    | 9          |   9% \n",
      "conda-4.8.0          | 3.1 MB    | #3         |  13% \n",
      "conda-4.8.0          | 3.1 MB    | #5         |  15% \n",
      "conda-4.8.0          | 3.1 MB    | #8         |  18% \n",
      "conda-4.8.0          | 3.1 MB    | #9         |  20% \n",
      "conda-4.8.0          | 3.1 MB    | ##1        |  21% \n",
      "conda-4.8.0          | 3.1 MB    | ##4        |  24% \n",
      "conda-4.8.0          | 3.1 MB    | ##6        |  27% \n",
      "conda-4.8.0          | 3.1 MB    | ###        |  30% \n",
      "conda-4.8.0          | 3.1 MB    | ###2       |  33% \n",
      "conda-4.8.0          | 3.1 MB    | ###4       |  35% \n",
      "conda-4.8.0          | 3.1 MB    | ###6       |  37% \n",
      "conda-4.8.0          | 3.1 MB    | ###9       |  40% \n",
      "conda-4.8.0          | 3.1 MB    | ####3      |  43% \n",
      "conda-4.8.0          | 3.1 MB    | ####6      |  46% \n",
      "conda-4.8.0          | 3.1 MB    | ####9      |  49% \n",
      "conda-4.8.0          | 3.1 MB    | #####1     |  52% \n",
      "conda-4.8.0          | 3.1 MB    | #####4     |  54% \n",
      "conda-4.8.0          | 3.1 MB    | #####7     |  57% \n",
      "conda-4.8.0          | 3.1 MB    | #####9     |  59% \n",
      "conda-4.8.0          | 3.1 MB    | ######1    |  61% \n",
      "conda-4.8.0          | 3.1 MB    | ######3    |  63% \n",
      "conda-4.8.0          | 3.1 MB    | ######5    |  65% \n",
      "conda-4.8.0          | 3.1 MB    | ######6    |  67% \n",
      "conda-4.8.0          | 3.1 MB    | ######8    |  69% \n",
      "conda-4.8.0          | 3.1 MB    | #######1   |  72% \n",
      "conda-4.8.0          | 3.1 MB    | #######3   |  73% \n",
      "conda-4.8.0          | 3.1 MB    | #######4   |  75% \n",
      "conda-4.8.0          | 3.1 MB    | #######5   |  76% \n",
      "conda-4.8.0          | 3.1 MB    | #######6   |  77% \n",
      "conda-4.8.0          | 3.1 MB    | #######7   |  78% \n",
      "conda-4.8.0          | 3.1 MB    | #######8   |  79% \n",
      "conda-4.8.0          | 3.1 MB    | #######9   |  79% \n",
      "conda-4.8.0          | 3.1 MB    | ########1  |  82% \n",
      "conda-4.8.0          | 3.1 MB    | ########4  |  85% \n",
      "conda-4.8.0          | 3.1 MB    | ########6  |  86% \n",
      "conda-4.8.0          | 3.1 MB    | ########7  |  87% \n",
      "conda-4.8.0          | 3.1 MB    | ########8  |  89% \n",
      "conda-4.8.0          | 3.1 MB    | #########  |  90% \n",
      "conda-4.8.0          | 3.1 MB    | #########2 |  92% \n",
      "conda-4.8.0          | 3.1 MB    | #########3 |  94% \n",
      "conda-4.8.0          | 3.1 MB    | #########4 |  95% \n",
      "conda-4.8.0          | 3.1 MB    | #########5 |  96% \n",
      "conda-4.8.0          | 3.1 MB    | #########7 |  98% \n",
      "conda-4.8.0          | 3.1 MB    | ########## | 100% \n",
      "Preparing transaction: ...working... done\n",
      "Verifying transaction: ...working... done\n",
      "Executing transaction: ...working... done\n",
      "\n",
      "Note: you may need to restart the kernel to use updated packages.\n"
     ]
    }
   ],
   "source": [
    "conda install -c anaconda beautifulsoup4"
   ]
  },
  {
   "cell_type": "markdown",
   "metadata": {},
   "source": [
    "#### 2. Import all needed libraries"
   ]
  },
  {
   "cell_type": "code",
   "execution_count": 41,
   "metadata": {},
   "outputs": [],
   "source": [
    "from bs4 import BeautifulSoup\n",
    "import pandas as pd\n",
    "import numpy as np\n",
    "import requests"
   ]
  },
  {
   "cell_type": "markdown",
   "metadata": {},
   "source": [
    "#### 3. Web Scrapping the wikipedia page containing list of neighborhoods in Toronto"
   ]
  },
  {
   "cell_type": "code",
   "execution_count": 37,
   "metadata": {},
   "outputs": [
    {
     "data": {
      "text/html": [
       "<div>\n",
       "<style scoped>\n",
       "    .dataframe tbody tr th:only-of-type {\n",
       "        vertical-align: middle;\n",
       "    }\n",
       "\n",
       "    .dataframe tbody tr th {\n",
       "        vertical-align: top;\n",
       "    }\n",
       "\n",
       "    .dataframe thead th {\n",
       "        text-align: right;\n",
       "    }\n",
       "</style>\n",
       "<table border=\"1\" class=\"dataframe\">\n",
       "  <thead>\n",
       "    <tr style=\"text-align: right;\">\n",
       "      <th></th>\n",
       "      <th>Postcode</th>\n",
       "      <th>Borough</th>\n",
       "      <th>Neighborhood</th>\n",
       "    </tr>\n",
       "  </thead>\n",
       "  <tbody>\n",
       "    <tr>\n",
       "      <th>0</th>\n",
       "      <td>M1A</td>\n",
       "      <td>Not assigned</td>\n",
       "      <td>Not assigned</td>\n",
       "    </tr>\n",
       "    <tr>\n",
       "      <th>1</th>\n",
       "      <td>M2A</td>\n",
       "      <td>Not assigned</td>\n",
       "      <td>Not assigned</td>\n",
       "    </tr>\n",
       "    <tr>\n",
       "      <th>2</th>\n",
       "      <td>M3A</td>\n",
       "      <td>North York</td>\n",
       "      <td>Parkwoods</td>\n",
       "    </tr>\n",
       "    <tr>\n",
       "      <th>3</th>\n",
       "      <td>M4A</td>\n",
       "      <td>North York</td>\n",
       "      <td>Victoria Village</td>\n",
       "    </tr>\n",
       "    <tr>\n",
       "      <th>4</th>\n",
       "      <td>M5A</td>\n",
       "      <td>Downtown Toronto</td>\n",
       "      <td>Harbourfront</td>\n",
       "    </tr>\n",
       "  </tbody>\n",
       "</table>\n",
       "</div>"
      ],
      "text/plain": [
       "  Postcode           Borough      Neighborhood\n",
       "0      M1A      Not assigned      Not assigned\n",
       "1      M2A      Not assigned      Not assigned\n",
       "2      M3A        North York         Parkwoods\n",
       "3      M4A        North York  Victoria Village\n",
       "4      M5A  Downtown Toronto      Harbourfront"
      ]
     },
     "execution_count": 37,
     "metadata": {},
     "output_type": "execute_result"
    }
   ],
   "source": [
    "source = requests.get(\"https://en.wikipedia.org/wiki/List_of_postal_codes_of_Canada:_M\").text\n",
    "\n",
    "soup = BeautifulSoup(source, 'lxml')\n",
    "\n",
    "table = soup.find('table').tbody\n",
    "rows = table.find_all('tr')\n",
    "\n",
    "columns = [item.text.replace(\"\\n\", \"\") for item in table.find_all(\"th\")]\n",
    "\n",
    "neighborhoods_data = []\n",
    "for i,row in enumerate(rows):\n",
    "    neighborhoods_data.append([])\n",
    "    for j, item in enumerate(row.find_all('td')):\n",
    "        neighborhoods_data[i].append(item.text.replace(\"\\n\", \"\"))\n",
    "\n",
    "neighborhoods_data = neighborhoods_data[1:]\n",
    "neighborhoods_data = list(map(list, zip(*neighborhoods_data)))\n",
    "\n",
    "tor_neigh_df = pd.DataFrame({columns[i]: neighborhoods_data[i] for i in range(3)})\n",
    "tor_neigh_df.head()"
   ]
  },
  {
   "cell_type": "markdown",
   "metadata": {},
   "source": [
    "#### 4. Rename PostalCode Column"
   ]
  },
  {
   "cell_type": "code",
   "execution_count": 40,
   "metadata": {},
   "outputs": [
    {
     "data": {
      "text/html": [
       "<div>\n",
       "<style scoped>\n",
       "    .dataframe tbody tr th:only-of-type {\n",
       "        vertical-align: middle;\n",
       "    }\n",
       "\n",
       "    .dataframe tbody tr th {\n",
       "        vertical-align: top;\n",
       "    }\n",
       "\n",
       "    .dataframe thead th {\n",
       "        text-align: right;\n",
       "    }\n",
       "</style>\n",
       "<table border=\"1\" class=\"dataframe\">\n",
       "  <thead>\n",
       "    <tr style=\"text-align: right;\">\n",
       "      <th></th>\n",
       "      <th>PostalCode</th>\n",
       "      <th>Borough</th>\n",
       "      <th>Neighborhood</th>\n",
       "    </tr>\n",
       "  </thead>\n",
       "  <tbody>\n",
       "    <tr>\n",
       "      <th>0</th>\n",
       "      <td>M1A</td>\n",
       "      <td>Not assigned</td>\n",
       "      <td>Not assigned</td>\n",
       "    </tr>\n",
       "    <tr>\n",
       "      <th>1</th>\n",
       "      <td>M2A</td>\n",
       "      <td>Not assigned</td>\n",
       "      <td>Not assigned</td>\n",
       "    </tr>\n",
       "    <tr>\n",
       "      <th>2</th>\n",
       "      <td>M3A</td>\n",
       "      <td>North York</td>\n",
       "      <td>Parkwoods</td>\n",
       "    </tr>\n",
       "    <tr>\n",
       "      <th>3</th>\n",
       "      <td>M4A</td>\n",
       "      <td>North York</td>\n",
       "      <td>Victoria Village</td>\n",
       "    </tr>\n",
       "    <tr>\n",
       "      <th>4</th>\n",
       "      <td>M5A</td>\n",
       "      <td>Downtown Toronto</td>\n",
       "      <td>Harbourfront</td>\n",
       "    </tr>\n",
       "  </tbody>\n",
       "</table>\n",
       "</div>"
      ],
      "text/plain": [
       "  PostalCode           Borough      Neighborhood\n",
       "0        M1A      Not assigned      Not assigned\n",
       "1        M2A      Not assigned      Not assigned\n",
       "2        M3A        North York         Parkwoods\n",
       "3        M4A        North York  Victoria Village\n",
       "4        M5A  Downtown Toronto      Harbourfront"
      ]
     },
     "execution_count": 40,
     "metadata": {},
     "output_type": "execute_result"
    }
   ],
   "source": [
    "tor_neigh_df.rename(columns={\"Postcode\": \"PostalCode\"}, inplace=True)\n",
    "tor_neigh_df.head()"
   ]
  },
  {
   "cell_type": "code",
   "execution_count": 48,
   "metadata": {},
   "outputs": [
    {
     "data": {
      "text/html": [
       "<div>\n",
       "<style scoped>\n",
       "    .dataframe tbody tr th:only-of-type {\n",
       "        vertical-align: middle;\n",
       "    }\n",
       "\n",
       "    .dataframe tbody tr th {\n",
       "        vertical-align: top;\n",
       "    }\n",
       "\n",
       "    .dataframe thead th {\n",
       "        text-align: right;\n",
       "    }\n",
       "</style>\n",
       "<table border=\"1\" class=\"dataframe\">\n",
       "  <thead>\n",
       "    <tr style=\"text-align: right;\">\n",
       "      <th></th>\n",
       "      <th>PostalCode</th>\n",
       "      <th>Borough</th>\n",
       "      <th>Neighborhood</th>\n",
       "    </tr>\n",
       "  </thead>\n",
       "  <tbody>\n",
       "    <tr>\n",
       "      <th>2</th>\n",
       "      <td>M3A</td>\n",
       "      <td>North York</td>\n",
       "      <td>Parkwoods</td>\n",
       "    </tr>\n",
       "    <tr>\n",
       "      <th>3</th>\n",
       "      <td>M4A</td>\n",
       "      <td>North York</td>\n",
       "      <td>Victoria Village</td>\n",
       "    </tr>\n",
       "    <tr>\n",
       "      <th>4</th>\n",
       "      <td>M5A</td>\n",
       "      <td>Downtown Toronto</td>\n",
       "      <td>Harbourfront</td>\n",
       "    </tr>\n",
       "    <tr>\n",
       "      <th>5</th>\n",
       "      <td>M6A</td>\n",
       "      <td>North York</td>\n",
       "      <td>Lawrence Heights</td>\n",
       "    </tr>\n",
       "    <tr>\n",
       "      <th>6</th>\n",
       "      <td>M6A</td>\n",
       "      <td>North York</td>\n",
       "      <td>Lawrence Manor</td>\n",
       "    </tr>\n",
       "  </tbody>\n",
       "</table>\n",
       "</div>"
      ],
      "text/plain": [
       "  PostalCode           Borough      Neighborhood\n",
       "2        M3A        North York         Parkwoods\n",
       "3        M4A        North York  Victoria Village\n",
       "4        M5A  Downtown Toronto      Harbourfront\n",
       "5        M6A        North York  Lawrence Heights\n",
       "6        M6A        North York    Lawrence Manor"
      ]
     },
     "execution_count": 48,
     "metadata": {},
     "output_type": "execute_result"
    }
   ],
   "source": [
    "tor_neigh_df = tor_neigh_df[tor_neigh_df[\"Borough\"]!=\"Not assigned\"]\n",
    "tor_neigh_df = tor_neigh_df[tor_neigh_df[\"Neighborhood\"]!=\"Not assigned\"]\n",
    "tor_neigh_df.reset_index()\n",
    "tor_neigh_df.head()"
   ]
  },
  {
   "cell_type": "code",
   "execution_count": 49,
   "metadata": {},
   "outputs": [
    {
     "data": {
      "text/plain": [
       "(209, 3)"
      ]
     },
     "execution_count": 49,
     "metadata": {},
     "output_type": "execute_result"
    }
   ],
   "source": [
    "tor_neigh_df.shape"
   ]
  },
  {
   "cell_type": "code",
   "execution_count": null,
   "metadata": {},
   "outputs": [],
   "source": []
  }
 ],
 "metadata": {
  "kernelspec": {
   "display_name": "Python 3",
   "language": "python",
   "name": "python3"
  },
  "language_info": {
   "codemirror_mode": {
    "name": "ipython",
    "version": 3
   },
   "file_extension": ".py",
   "mimetype": "text/x-python",
   "name": "python",
   "nbconvert_exporter": "python",
   "pygments_lexer": "ipython3",
   "version": "3.7.3"
  }
 },
 "nbformat": 4,
 "nbformat_minor": 2
}
